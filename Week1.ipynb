{
 "cells": [
  {
   "cell_type": "markdown",
   "metadata": {},
   "source": [
    "<div style=\"background: #efffed;\n",
    "            border: 1px solid grey;\n",
    "            margin: 8px 0 8px 0;\n",
    "            text-align: center;\n",
    "            padding: 8px; \">\n",
    "    <i class=\"fa-play fa\" \n",
    "       style=\"font-size: 40px;\n",
    "              line-height: 40px;\n",
    "              margin: 8px;\n",
    "              color: #444;\">\n",
    "    </i>\n",
    "    <center>\n",
    "    Click into a code cell (the gray blocks below) to select or edit it.<br/>\n",
    "    To run a selected code cell, hit <pre style=\"background: #efffed\">Shift + Enter</pre>\n",
    "    Make sure that each code cell runs successfully before you move on to the next one.\n",
    "    </center>\n",
    "</div>"
   ]
  },
  {
   "cell_type": "code",
   "execution_count": 1,
   "metadata": {},
   "outputs": [],
   "source": [
    "##Copying the libraries and scripts in the example - just in case\n",
    "# load libraries and scripts\n",
    "import pandas as pd\n",
    "import numpy as np\n",
    "import matplotlib.pyplot as plt\n",
    "from scripts.functions import test_add"
   ]
  },
  {
   "cell_type": "code",
   "execution_count": null,
   "metadata": {},
   "outputs": [],
   "source": [
    "##Again, just copying this from the example.\n",
    "# load IPython library for comprehensive system info\n",
    "import IPython\n",
    "print(IPython.sys_info())"
   ]
  },
  {
   "cell_type": "markdown",
   "metadata": {},
   "source": [
    "# Hello, today we will be learning some P H Y S I C S!\n",
    "# Today, you'll learn how to:\n",
    "# 1: Understand the relationship between velocity, distance, acceleration, and how derivatives fit in\n",
    "# 2: Analyze a slope of a particular line, and determine the velocity and/or acceleration\n",
    "# 3: Evaluate a plot of distance vs speed, and then provide an equation that describes the line\n",
    "\n",
    "\n",
    "# ESSSKETIITTT!!!!"
   ]
  },
  {
   "cell_type": "markdown",
   "metadata": {},
   "source": [
    "# Okay, so first thing's first - \n",
    "# What is Distance? - Ezpz right? Kinda self explanatory right? It's a measurement of space between two things. Pretty much always a straight line right?\n",
    "# What is Velocity? - It's normally defined as distance divided by time\n",
    "\n",
    "\\begin{align}\n",
    "Velocity = \\delta Distance  /  \\delta Time\n",
    "\\end{align}\n",
    "\n",
    "# What is Acceleration? - It's defined as Change in velocity over time\n",
    "\n",
    "\\begin{align}\n",
    "Acceleration = \\delta Velocity  /  \\delta Time\n",
    "\\end{align}\n",
    "\n",
    "# So velocity is a change in distance over time, and acceleration is a change in velocity over time... okay now one more thing.\n"
   ]
  },
  {
   "cell_type": "code",
   "execution_count": null,
   "metadata": {},
   "outputs": [],
   "source": [
    "import pandas as pd\n",
    "import numpy as np\n",
    "curve = pd.DataFrame(np.arange(0.0, 20.0, 1.0), columns = list('t'))\n",
    "curve['y'] = (2 * np.pi * curve['t'])\n",
    "curve[1:10] # first 10 rows"
   ]
  },
  {
   "cell_type": "code",
   "execution_count": null,
   "metadata": {},
   "outputs": [],
   "source": []
  },
  {
   "cell_type": "code",
   "execution_count": null,
   "metadata": {},
   "outputs": [],
   "source": []
  },
  {
   "cell_type": "code",
   "execution_count": null,
   "metadata": {},
   "outputs": [],
   "source": []
  }
 ],
 "metadata": {
  "kernelspec": {
   "display_name": "Python 3",
   "language": "python",
   "name": "python3"
  },
  "language_info": {
   "codemirror_mode": {
    "name": "ipython",
    "version": 3
   },
   "file_extension": ".py",
   "mimetype": "text/x-python",
   "name": "python",
   "nbconvert_exporter": "python",
   "pygments_lexer": "ipython3",
   "version": "3.7.8"
  }
 },
 "nbformat": 4,
 "nbformat_minor": 4
}
