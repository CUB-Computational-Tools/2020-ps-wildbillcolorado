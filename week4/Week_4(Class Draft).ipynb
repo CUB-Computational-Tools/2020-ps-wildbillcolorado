{
 "cells": [
  {
   "cell_type": "markdown",
   "metadata": {},
   "source": [
    "<div style=\"background: #efffed;\n",
    "            border: 1px solid grey;\n",
    "            margin: 8px 0 8px 0;\n",
    "            text-align: center;\n",
    "            padding: 8px; \">\n",
    "    <i class=\"fa-play fa\" \n",
    "       style=\"font-size: 40px;\n",
    "              line-height: 40px;\n",
    "              margin: 8px;\n",
    "              color: #444;\">\n",
    "    </i>\n",
    "    <center>\n",
    "    Click into a code cell (the gray blocks below) to select or edit it.<br/>\n",
    "    To run a selected code cell, hit <pre style=\"background: #efffed\">Shift + Enter</pre>\n",
    "    Make sure that each code cell runs successfully before you move on to the next one.\n",
    "    </center>\n",
    "</div>"
   ]
  },
  {
   "cell_type": "code",
   "execution_count": null,
   "metadata": {},
   "outputs": [],
   "source": [
    "##This is just necessery code to run everything needed in this lesson\n",
    "# load libraries and scripts\n",
    "import pandas as pd\n",
    "import numpy as np\n",
    "import matplotlib.pyplot as plt\n",
    "import ternary"
   ]
  },
  {
   "cell_type": "markdown",
   "metadata": {},
   "source": [
    "# Learning how to use functions in plotting:\n",
    "#### In this lesson you'll learn:\n",
    ">#### 1: The qualities that are used in identifying igneous rocks\n",
    ">#### 2: How to create a simple funciton that performs calculations\n",
    ">#### 3: How to create a 2 axis plot from scratch that can be used for geologically-relavent information\n",
    "\n"
   ]
  },
  {
   "cell_type": "markdown",
   "metadata": {},
   "source": [
    "# Prerequisites:\n",
    "We will be building off of last weeks (week 3) lesson, so all you knowledge you need are the prerequisites from that lesson, and the skills learned from that lesson.\n"
   ]
  },
  {
   "cell_type": "markdown",
   "metadata": {},
   "source": [
    "# Igneous Rocks:\n",
    "\n",
    "So last week, we just discussed sedimentary rocks, and how we can use different properties such as clast size and composition to classify sedimentary rocks into useful groups. This week, we'll be using those same skills, and applying them to igneous rocks.\n",
    "What is an **igneous rock**? Well, it is one of the three main rock types, the others being sedimentary and metamorphic. Igneous rock is formed through the cooling and solidification of magma or lava. Individual **minerals** make up a rock. At a very basic level, a **rock** is just an aggregate of minerals. When we looked at sedimentary rocks, we kinda thought of them as an aggregate of tiny particles, or grains, that are kinda loosly cemented together. Igneous rocks are like if those sedimentary rocks went into a super hot melting pot, got so hot they were melted, and then re-crystallized into mineral grains. At the point that a rock melts into a magma, and then recrystallizes, that's the point it changes to an igneous rock. While sedimentary rocks had grain sizes that were classified commonly using the Udden Wentworth scale, we can use the sizes of minerals in igneous rocks in a similiar way. Generally, the larger the mineral size is, the more time it has had time to crystallize and grow during cooling. This growth rate depends on many factors, like temperature, chemical composition, and pressure. However, typically the **composition of an igneous rock tells us a lot more useful information** than just the size of the grains though, so chemical composition is what we'll be focusing on in this lesson.\n",
    "\n",
    "There are 4 main types of igneous rocks - **Felsic, Intermediate, Mafic, and Ultramafic**, and they basically represent the spectrum of chemical compositions for the rocks. Felsic rocks have a lot of felsic minerals (**feldspar and quartz** are common felsic minerals), while Ultramafic and mafic rocks have comparatively lower amounts of felsic minerals, and higher amounts of mafic minerals ( **olivine and pyroxene** are considered common mafic minerals). In the picture, you'll see \"intrusive\" and \"extrusive\". Intrusive just means the rock crystallized/cooled slowly underground and typically have larger mineral crystals, and extrusive means it crystallized/cooled quickly above ground and have smaller mineral crystals. Typically, the mafic minerals crystallize/melt at higher temperatures (around 1000-1200 degrees C), and the felsic minerals crystallize/melt at lower temperatures (600-750 degrees C)\n",
    "\n",
    "![alt text](Mafic2Felsic.JPG)\n",
    "\n",
    "\n",
    "# Question 1\n",
    "What do you think causes the grain size difference between intrusive and extrusive rocks? What processes might you expect to form an intrusive vs and extrusive rock? Try to be as detailed as possible with your answer. You should probably try to answer this after you've completed the rest of the reading, but the question is located here, because lots of the relevant information is in the surrounding text.\n"
   ]
  },
  {
   "cell_type": "markdown",
   "metadata": {},
   "source": [
    "# Fractional Crystallization:\n",
    "\n",
    "Let's picture a volcanic chamber, a few miles beneath the surface. Like this.\n",
    "\n",
    "![alt text](volcanochamber.png)\n",
    "\n",
    "We can think of this volcano as getting its heat, or it's melted rock source from deep within the earth's mantle. Let's say that volcano now doesnt have a heat source anymore - it's a dead volcano now- and the chamber that was holding this melted rock starts to cool. Let's say when it was active, the temperature was around 1300 degrees C, but over time, it cools to 100 degrees C. The mafic minerals are gonna be the first that start to crystallize out, because they have the highest melting points (around 1000-1200 degrees C), then the intermediate minerals, then the felsic minerals (with melting points around 750-600 degrees C). Keep in mind this cooling processes can take a looong time (on the order of tens of thousands, to millions of years) For the purpose of this exercise, lets say the cooliing process takes a 1.2 million years, and the cooling process was unofrmly gradual. So it takes 100 thousand years to cool by 100 degrees (1.3 million years to go from 1300 to 100 degrees C). Once the mafic minerals cool and crystallize, they start to float around and settle to the bottom. For example, while the temperature is changing from 1000 degrees to 800 degrees, there is 200 thousand years of time that the mafic crystals (that have melting points at 1000 degrees) have to settle to the bottom while the chamber is still hot enough to keep the felsic minerals (with melting points below 800 degrees) melted.\n",
    "\n",
    "![alt text](Fractional_crystallization.png)\n",
    "\n",
    "So when we look at old magma chambers, we can commonly see a gradation of more mafic minerals at the bottom, and more felsic mienrals at the top."
   ]
  },
  {
   "cell_type": "markdown",
   "metadata": {},
   "source": [
    "# QAP and TAS\n",
    "\n",
    "Last week, we learned all about ternary diagrams - how to plot on them, and how they can be useful to classification of sedimentary rocks. Well, similar to the sedimentary rock ternaries we used in the last lesson, which classified sedimentary rocks based on their grain size, we can plot igneous rocks on a ternary. A common ternary used for intrusive igneous rocks is the QAP, which stands for Quartz, Plagioclase Feldspar, and Alkali Feldspar. This chart is used by detemining the **modal abundance** of the 3 minerals.\n",
    "# explain modal abundance in more detail\n",
    "\n",
    "![alt text](QAP_Ternary.jpg)\n",
    "\n",
    "Another common classification diagram for igneous rocks is the TAS classification. This chart plots the silicon content as a function of the combined alkali content in a rock. In order to use the TAS chart, you can't just look at a rock and determine it's modal abundances - you need to have a chemical anlysis in order to determine the chemical composition of the rock.\n",
    "\n",
    "![alt text](TAS_classification.jpg)\n",
    "\n"
   ]
  },
  {
   "cell_type": "markdown",
   "metadata": {},
   "source": [
    "# Functions\n",
    "Last lesson, we used the ternary diagram that looked like this:\n",
    "![alt text](Ternary_example.jpg)\n",
    "\n",
    "We were able to give the code some inputs (we used data from 3 columns as an input) and it spat out a nice, plotted ternary diagram. We needed to import the ternary library to use that. That library allowed us to make \"objects\" that we applied \"functions\" to. A function is just something that takes in an input, and then spits out an output. Last week, we defined an object with our 3 columns of data, and then did plotting functions on that object. That \"Ternary\" library had hundreds of lines of code that told the computer exaclty how to create a ternary diagram, where to draw the lines, and how to plot the points within that line. There were lots of rotations and inner funcitons within that Ternary function.\n",
    "\n",
    "For this class, we're going to build a few smaller funcitons that "
   ]
  },
  {
   "cell_type": "code",
   "execution_count": null,
   "metadata": {},
   "outputs": [],
   "source": [
    "df = pd.read_csv(r'C:/Users/WillyB/Documents/GitHub/2020-ps-wildbillcolorado/week4/Week4_Data')  # You'll have to change this for your own file path.\n",
    "df.head()"
   ]
  },
  {
   "cell_type": "code",
   "execution_count": null,
   "metadata": {},
   "outputs": [],
   "source": []
  },
  {
   "cell_type": "code",
   "execution_count": null,
   "metadata": {
    "scrolled": false
   },
   "outputs": [],
   "source": [
    "df  #this just allows you to look at the entire data frame"
   ]
  },
  {
   "cell_type": "code",
   "execution_count": null,
   "metadata": {},
   "outputs": [],
   "source": [
    "# Set up the figure.\n",
    "fig, tax = ternary.figure(scale=100)\n",
    "fig.set_size_inches(10, 9)\n",
    "\n",
    "# Plot points.\n",
    "tax.scatter(df[['Mud Norm', 'Gravel Norm', 'Sand Norm']].values) ## need to give the \n",
    "\n",
    "# Axis labels. \n",
    "fontsize = 14\n",
    "offset = 0.08\n",
    "tax.left_axis_label(\"% particles sand\", fontsize=fontsize, offset=offset)\n",
    "tax.right_axis_label(\"% particles gravel\", fontsize=fontsize, offset=offset)\n",
    "tax.bottom_axis_label(\"% particles mud\", fontsize=fontsize, offset=-offset)\n",
    "tax.set_title(\"Clastic Ternary\", fontsize=20)\n",
    "\n",
    "# These are lines drawn in the ternary diagram. Create a new line that divides the ternary in a way to classify what can and cannot be used in the Pettijohn classification.\n",
    "p1, p2 = (0, 80, 20), (20, 80, 0)\n",
    "tax.line(p1, p2, linewidth=3, color='k', alpha=0.35, linestyle=\"-\")\n",
    "\n",
    "p1, p2 = (0, 30, 70), (70, 30, 0)\n",
    "tax.line(p1, p2, linewidth=3, color='k', alpha=0.35, linestyle=\"-\")\n",
    "\n",
    "p1, p2 = (10, 80, 10), (50, 0, 50)\n",
    "tax.line(p1, p2, linewidth=3, color='k', alpha=0.35, linestyle=\"--\")\n",
    "\n",
    "p1, p2 = (0, 5, 95), (95, 5, 0)\n",
    "tax.line(p1, p2, linewidth=3, color='k', alpha=0.35, linestyle=\"-\")\n",
    "\n",
    "p1, p2 = (2, 80, 17), (10, 0, 90)\n",
    "tax.line(p1, p2, linewidth=3, color='k', alpha=0.35, linestyle=\"-\")\n",
    "\n",
    "##Add line for Q3 here\n",
    "\n",
    "# Decoration.\n",
    "tax.boundary(linewidth=1)\n",
    "tax.gridlines(multiple=10, color=\"gray\")\n",
    "tax.ticks(axis='lbr', linewidth=1, multiple=20)\n",
    "tax.get_axes().axis('off')\n",
    "\n",
    "tax.show()"
   ]
  },
  {
   "cell_type": "code",
   "execution_count": null,
   "metadata": {},
   "outputs": [],
   "source": []
  },
  {
   "cell_type": "markdown",
   "metadata": {},
   "source": [
    "# Question 2:\n"
   ]
  },
  {
   "cell_type": "code",
   "execution_count": null,
   "metadata": {},
   "outputs": [],
   "source": [
    "def add_LeMaitre_fields(plot_axes, fontsize=8, color=(0.6, 0.6, 0.6)):\n",
    "    \"\"\"Add fields for geochemical classifications from LeMaitre et al (2002)\n",
    "    to pre-existing axes.  If necessary, the axes object can be retrieved via\n",
    "    plt.gca() command. e.g.\n",
    "    \n",
    "    ax1 = plt.gca()\n",
    "    add_LeMaitre_fields(ax1)\n",
    "    ax1.plot(silica, total_alkalis, 'o')\n",
    "    \n",
    "    Fontsize and color options can be used to change from the defaults.\n",
    "    \n",
    "    It may be necessary to follow the command with plt.draw() to update\n",
    "    the plot.\n",
    "    \n",
    "    Le Maitre RW (2002) Igneous rocks : IUGS classification and glossary of\n",
    "        terms : recommendations of the International Union of Geological \n",
    "        Sciences Subcommission on the Systematics of igneous rocks, 2nd ed. \n",
    "        Cambridge University Press, Cambridge\n",
    "\"\"\"\n",
    "\n",
    "    # Check matplotlib is imported\n",
    "    import sys\n",
    "    if 'matplotlib.pyplot' not in sys.modules:\n",
    "        raise MissingModuleException(\"\"\"Matplotlib not imported.\n",
    "        Matplotlib is installed as part of many scientific packages and is\n",
    "        required to create plots.\"\"\")\n",
    "    \n",
    "    # Check that plot_axis can plot\n",
    "    if 'plot' not in dir(plot_axes):\n",
    "        raise TypeError('plot_axes is not a matplotlib axes instance.')\n",
    "    \n",
    "    # Prepare the field information\n",
    "    from collections import namedtuple\n",
    "    FieldLine = namedtuple('FieldLine', 'x1 y1 x2 y2')\n",
    "    lines = (FieldLine(x1=41, y1=0, x2=41, y2=7),\n",
    "             FieldLine(x1=41, y1=7, x2=52.5, y2=14),\n",
    "             FieldLine(x1=45, y1=0, x2=45, y2=5),\n",
    "             FieldLine(x1=41, y1=3, x2=45, y2=3),\n",
    "             FieldLine(x1=45, y1=5, x2=61, y2=13.5),\n",
    "             FieldLine(x1=45, y1=5, x2=52, y2=5),\n",
    "             FieldLine(x1=52, y1=5, x2=69, y2=8),\n",
    "             FieldLine(x1=49.4, y1=7.3, x2=52, y2=5),\n",
    "             FieldLine(x1=52, y1=5, x2=52, y2=0),\n",
    "             FieldLine(x1=48.4, y1=11.5, x2=53, y2=9.3),\n",
    "             FieldLine(x1=53, y1=9.3, x2=57, y2=5.9),\n",
    "             FieldLine(x1=57, y1=5.9, x2=57, y2=0),\n",
    "             FieldLine(x1=52.5, y1=14, x2=57.6, y2=11.7),\n",
    "             FieldLine(x1=57.6, y1=11.7, x2=63, y2=7),\n",
    "             FieldLine(x1=63, y1=7, x2=63, y2=0),\n",
    "             FieldLine(x1=69, y1=12, x2=69, y2=8),\n",
    "             FieldLine(x1=45, y1=9.4, x2=49.4, y2=7.3),\n",
    "             FieldLine(x1=69, y1=8, x2=77, y2=0))\n",
    "\n",
    "    FieldName = namedtuple('FieldName', 'name x y rotation')\n",
    "    names = (FieldName('Picro\\nbasalt', 43, 2, 0),\n",
    "             FieldName('Basalt', 48.5, 2, 0),\n",
    "             FieldName('Basaltic\\nandesite', 54.5, 2, 0),\n",
    "             FieldName('Andesite', 60, 2, 0),\n",
    "             FieldName('Dacite', 68.5, 2, 0),\n",
    "             FieldName('Rhyolite', 76, 9, 0),\n",
    "             FieldName('Trachyte\\n(Q < 20%)\\n\\nTrachydacite\\n(Q > 20%)',\n",
    "                       64.5, 11.5, 0),\n",
    "             FieldName('Basaltic\\ntrachyandesite', 53, 8, -20),\n",
    "             FieldName('Trachy-\\nbasalt', 49, 6.2, 0),\n",
    "             FieldName('Trachyandesite', 57.2, 9, 0),\n",
    "             FieldName('Phonotephrite', 49, 9.6, 0),\n",
    "             FieldName('Tephriphonolite', 53.0, 11.8, 0),\n",
    "             FieldName('Phonolite', 57.5, 13.5, 0),\n",
    "             FieldName('Tephrite\\n(Ol < 10%)', 45, 8, 0),\n",
    "             FieldName('Foidite', 44, 11.5, 0),\n",
    "             FieldName('Basanite\\n(Ol > 10%)', 43.5, 6.5, 0))\n",
    "\n",
    "    # Plot the lines and fields\n",
    "    for line in lines:\n",
    "        plot_axes.plot([line.x1, line.x2], [line.y1, line.y2],\n",
    "                       '-', color=color, zorder=0)\n",
    "    for name in names:\n",
    "        plot_axes.text(name.x, name.y, name.name, color=color, size=fontsize,\n",
    "                 horizontalalignment='center', verticalalignment='top',\n",
    "                 rotation=name.rotation, zorder=0)"
   ]
  },
  {
   "cell_type": "markdown",
   "metadata": {},
   "source": []
  },
  {
   "cell_type": "code",
   "execution_count": null,
   "metadata": {},
   "outputs": [],
   "source": []
  },
  {
   "cell_type": "code",
   "execution_count": null,
   "metadata": {},
   "outputs": [],
   "source": []
  },
  {
   "cell_type": "markdown",
   "metadata": {},
   "source": []
  }
 ],
 "metadata": {
  "kernelspec": {
   "display_name": "Python 3",
   "language": "python",
   "name": "python3"
  },
  "language_info": {
   "codemirror_mode": {
    "name": "ipython",
    "version": 3
   },
   "file_extension": ".py",
   "mimetype": "text/x-python",
   "name": "python",
   "nbconvert_exporter": "python",
   "pygments_lexer": "ipython3",
   "version": "3.8.3"
  }
 },
 "nbformat": 4,
 "nbformat_minor": 4
}
