{
 "cells": [
  {
   "cell_type": "markdown",
   "metadata": {},
   "source": [
    "<div style=\"background: #efffed;\n",
    "            border: 1px solid grey;\n",
    "            margin: 8px 0 8px 0;\n",
    "            text-align: center;\n",
    "            padding: 8px; \">\n",
    "    <i class=\"fa-play fa\" \n",
    "       style=\"font-size: 40px;\n",
    "              line-height: 40px;\n",
    "              margin: 8px;\n",
    "              color: #444;\">\n",
    "    </i>\n",
    "    <center>\n",
    "    Click into a code cell (the gray blocks below) to select or edit it.<br/>\n",
    "    To run a selected code cell, hit <pre style=\"background: #efffed\">Shift + Enter</pre>\n",
    "    Make sure that each code cell runs successfully before you move on to the next one.\n",
    "    </center>\n",
    "</div>"
   ]
  },
  {
   "cell_type": "code",
   "execution_count": null,
   "metadata": {},
   "outputs": [],
   "source": [
    "##This is just necessery code to run everything needed in this lesson\n",
    "# load libraries and scripts\n",
    "import pandas as pd\n",
    "import numpy as np\n",
    "import matplotlib.pyplot as plt\n",
    "from scripts.functions import test_add"
   ]
  },
  {
   "cell_type": "markdown",
   "metadata": {},
   "source": [
    "# Hello, today we building on our previous lesson of Velocity and acceleration\n",
    "# \n",
    "# \n",
    "### Today, you'll learn how to:\n",
    "># 1: Understand the qualities of a VECTOR\n",
    "># 2: Understand how the X and Y COMPONENTS of velocity in 2-Dimensional space\n",
    "># 3: Calculate the X and Y components of Velocity\n",
    "\n"
   ]
  },
  {
   "cell_type": "markdown",
   "metadata": {},
   "source": [
    "## Review : What is Velocity? - \n",
    "#### It's normally defined as change in distance divided by change time\n",
    "#### Velocity is a **VECTOR**, so the direction usually matters...in the last lesson, we just looked at velocity in one direction, but in this lesson we are going to talk about velocity in 2 dimensions.\n",
    "\n",
    "## Pythagorean Thory\n",
    "#### Who said geometry was a useless math class? Triangles are super important shapes in pretty much every science discipline, and one way they are especially important is in understanding vectors.\n",
    "\n",
    "#### Remember, the HYPOTENUS of a RIGHT TRIANGLE is equal to the square root of the sums of the length and width.\n",
    "![alt text](Pythagorean.png \"Title\")\n",
    "\n",
    "\\begin{equation*}\n",
    "C = \\sqrt{a^2 + b^2}\n",
    "\\end{equation*}\n",
    "\n",
    "#### How does this relate to velocity? Well, think of it like this... The total velocity is the C, the x component of velocity is a, and the y component is b.\n",
    "\n",
    "\n",
    "\\begin{align}\n",
    "Velocity = /sqrt {(Velocity_{x})^2 + (Velocity_{y})^2}\n",
    "\\end{align}\n",
    "# \n",
    "## So velocity is a change in distance over time, and acceleration is a change in velocity over time... okay now one more thing.\n"
   ]
  },
  {
   "cell_type": "code",
   "execution_count": null,
   "metadata": {},
   "outputs": [],
   "source": [
    "## Dont worry about all this confusing-looking stuff, this code is just used to make the graph below - read the green(or whatever other color if you happen to be colorblind, we are not able-ist here at CUB) text to the right of the code for explanations on what that part of the code does.\n",
    "import matplotlib.pyplot as plt ##imports the necessary information to make the graph\n",
    "curve = pd.DataFrame(np.arange(0.0, 11.0, 1.0), columns = list('x')) ## this just gives the x values 0 through 11, at intervals of 1  \n",
    "curve['y'] = (2* curve['x']) ## This sets the y value to be 2 times the x value\n",
    "plt.rcParams['figure.figsize'] = [6, 6] ## this just adjusts the visual size of the graph - feel free to play around with this to adjust the size of the graph\n",
    "plt.plot(curve['x'], curve['y']) ##tells the program to plot the x and y values.\n",
    "plt.title('Some graph') ##gives titles to the graph and axes.\n",
    "plt.xlabel('Some X Axis')\n",
    "plt.ylabel('Some Y Axis')\n",
    "\n",
    "plt.show() ##display"
   ]
  },
  {
   "cell_type": "markdown",
   "metadata": {},
   "source": [
    "### Take my word, the above graph is just y = 2x\n",
    "### So, we've basically got this form: **y = mx + b**        its the basic slope formula you learn in school\n",
    "# Question 1: Remember, *m* (Rise over Run) is the slope - so in this case, can you apporixmate what the slope (Rise over Run) is?\n",
    "# \n",
    "\n",
    "# Question 2: So remember, the derivative of a function is the slope of that function - So what is the derivative of the function from the first question?\n",
    "\n",
    "## Now we're gonna try a bit of a more complicated graph."
   ]
  },
  {
   "cell_type": "code",
   "execution_count": null,
   "metadata": {},
   "outputs": [],
   "source": [
    "## This is exactly the same stuff from earlier in the exercise, but we're giving different values for the x's and y's\n",
    "curve = pd.DataFrame(np.arange(0.0, 7.0, 0.5), columns = list('x'))\n",
    "curve['y'] = (1.6** curve['x'])  ## so this basically makes it so y = 1.6^x. so if x is 2, then y = 1.6 *1.6, or x^2...if x is 3, then y = 1.6 * 1.6 * 1.6, or x^3\n",
    "curve[0:14]  ## this just displays the values for x and y\n"
   ]
  },
  {
   "cell_type": "code",
   "execution_count": null,
   "metadata": {},
   "outputs": [],
   "source": [
    "plt.rcParams['figure.figsize'] = [6, 6]\n",
    "plt.plot(curve['x'], curve['y'])\n",
    "plt.title('Plot for Distance VS Time')\n",
    "plt.xlabel('Time(sec)')\n",
    "plt.ylabel('Distance(M)')\n",
    "\n",
    "plt.show()"
   ]
  },
  {
   "cell_type": "markdown",
   "metadata": {},
   "source": [
    "### So remember when we said the slope is equal to the rise over run? Well check this graph out - what's the rise and run here?\n",
    "\n",
    "### It's the Distance / Time - or the same exact equation for Velocity! (distance is the rise, and time is the run)\n",
    "\\begin{align}\n",
    "Velocity = \\delta Distance  /  \\delta Time\n",
    "\\end{align}\n",
    "\n",
    "### It so happens to be that the equation for this line is \n",
    "\n",
    "\\begin{align}\n",
    "Distance = 1.6^t\n",
    "\\end{align}\n",
    "### **The Velocity is just the slope** of the Distance vs Time graph! The velocity is the slope, or the derivative of distance vs time. If this is news to you, you should probably to read these last few lines a few more times, make ssure you really get it.\n",
    "# \n",
    "### What is the velocity at time = 1 second? - It's the slope of the line at time = 1 second.\n",
    "# Question 3: Is the velocity greater at time = 2 seconds, or at time = 4 seconds? Why?\n",
    "# \n",
    "### Now what happens if we take the graph from Distance and Time, and then we take the derivative (or slope) of the line at every second?...\n"
   ]
  },
  {
   "cell_type": "code",
   "execution_count": null,
   "metadata": {},
   "outputs": [],
   "source": [
    "## This is the same as the other graphs...we're just creating a table of x and y values..... except the values for y is once again going to change.\n",
    "curve = pd.DataFrame(np.arange(0.0, 7.0, 0.5), columns = list('x'))\n",
    "curve['y'] = (np.log(1.6) * 1.6** curve['x']) ## this is the only thing that changed from the last table. Instead of y = 1.6^x, it is now ln(1.6)*1.6^x. Why did we do this? Becuase the DERIVATIVE of 1.6^x happens to be ln(1.6)*1.6^x...So this is the derivative, or the SLOPE of the graph before.\n",
    "curve[1:20]  ## notice how the numbers have changed from the last graph."
   ]
  },
  {
   "cell_type": "code",
   "execution_count": null,
   "metadata": {},
   "outputs": [],
   "source": [
    "plt.rcParams['figure.figsize'] = [6, 6]\n",
    "plt.plot(curve['x'], curve['y'])\n",
    "plt.title('Plot for Velocity VS Time')\n",
    "plt.xlabel('Time(sec)')\n",
    "plt.ylabel('Velocity(M/s)')\n",
    "\n",
    "plt.show()"
   ]
  },
  {
   "cell_type": "markdown",
   "metadata": {},
   "source": [
    "### This is what we get - The derivative of distance vs time - which is velocity!\n",
    "\n",
    "### We can compare the graph of Velocity and the graph of Acceleration. I know they look similiar, but if you look at the Y axes, you can tell they are a bit different in scale.\n",
    "\n",
    "### The original equation of the distance vs time graph was \n",
    "\\begin{align}\n",
    "Distance = 1.6^t\n",
    "\\end{align}\n",
    "### And that means the derivative (or the slope) of the line is \n",
    "\\begin{align}\n",
    "Distance = ln(1.6)*1.6^t\n",
    "\\end{align}\n",
    "\n",
    "## We find the velocity by taking the slope of a distance vs time graph, and similiarly, we find the acceleration by taking the slope of a velocity vs time graph.\n",
    "\n",
    "# Question 4: What is greater, the acceleration at 2 seconds, or the acceleration at 4 seconds? Why?\n",
    "# \n",
    "# Extra Credit : What is the **scalar** difference between the last two graphs in this exercise? In other words, what is the size comparison of the last 2 graphs? Is the last one smaller by a half, smaller by a quarter, double the size?\n"
   ]
  }
 ],
 "metadata": {
  "kernelspec": {
   "display_name": "Python 3",
   "language": "python",
   "name": "python3"
  },
  "language_info": {
   "codemirror_mode": {
    "name": "ipython",
    "version": 3
   },
   "file_extension": ".py",
   "mimetype": "text/x-python",
   "name": "python",
   "nbconvert_exporter": "python",
   "pygments_lexer": "ipython3",
   "version": "3.7.8"
  }
 },
 "nbformat": 4,
 "nbformat_minor": 4
}
