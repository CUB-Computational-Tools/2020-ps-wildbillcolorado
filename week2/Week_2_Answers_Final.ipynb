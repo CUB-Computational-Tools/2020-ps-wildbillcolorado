{
 "cells": [
  {
   "cell_type": "markdown",
   "metadata": {},
   "source": [
    "<div style=\"background: #efffed;\n",
    "            border: 1px solid grey;\n",
    "            margin: 8px 0 8px 0;\n",
    "            text-align: center;\n",
    "            padding: 8px; \">\n",
    "    <i class=\"fa-play fa\" \n",
    "       style=\"font-size: 40px;\n",
    "              line-height: 40px;\n",
    "              margin: 8px;\n",
    "              color: #444;\">\n",
    "    </i>\n",
    "    <center>\n",
    "    Click into a code cell (the gray blocks below) to select or edit it.<br/>\n",
    "    To run a selected code cell, hit <pre style=\"background: #efffed\">Shift + Enter</pre>\n",
    "    Make sure that each code cell runs successfully before you move on to the next one.\n",
    "    </center>\n",
    "</div>"
   ]
  },
  {
   "cell_type": "code",
   "execution_count": null,
   "metadata": {},
   "outputs": [],
   "source": [
    "##This is just necessery code to run everything needed in this lesson\n",
    "# load libraries and scripts\n",
    "import pandas as pd\n",
    "import numpy as np\n",
    "import matplotlib.pyplot as plt\n",
    "import numpy as np\n",
    "from matplotlib import pyplot as plt  \n",
    "import math\n"
   ]
  },
  {
   "cell_type": "markdown",
   "metadata": {},
   "source": [
    "# Hello, today's lesson: Velocity and Vectors\n",
    "## Before we start, please go to the top cell and press shift+enter  (this is how you run a cell)\n",
    "# Learning Goals:\n",
    "## 1: Distinguish the qualities of a VECTOR from a SCALAR\n",
    "## 2: Break down a vector into it's x and y components\n",
    "## 3: Create a plot from arrays of data\n",
    "## 4: Calculate the X and Y components of Velocity\n",
    "\n"
   ]
  },
  {
   "cell_type": "markdown",
   "metadata": {},
   "source": [
    "## Review : What is Velocity? - \n",
    "#### It's normally defined as change in distance divided by change time\n",
    "#### Velocity is a **VECTOR**, so the direction usually matters...in the last lesson, we just looked at velocity in one direction, in one dimension, but in this lesson we are going to talk about velocity in 2 dimensions.\n",
    "\n",
    "## What is a VECTOR?\n",
    "#### Super simple - it is a quantitiy that has a value, as well as direction. So instead of saying the velocity is 10 m/s, you HAVE to say velocity is 10 m/s in a *blank* direction. The quantitiy cant exist without the direction. It's different that mass for instance, which is a SCALAR. Scalar's are quantities with a value and no direction, Vectors are quantities with a value and direction.  Some examples of a scalar include the number of apples a store sells, or the number of grains of sand on a beach. Some examples of vectors are wind, and gravitational force (because it always points in the direction of the center of mass). \n",
    "\n",
    "## Pythagorean Thory\n",
    "#### Who said geometry was a useless math class? Triangles are super important shapes in pretty much every science discipline, and one way they are especially important is in understanding vectors.\n",
    "\n",
    "#### Remember, the HYPOTENUS of a RIGHT TRIANGLE is equal to the square root of the sums of the length and width.\n",
    "![alt text](Pythagorean(1).gif \"Title\")\n",
    "\n",
    "\\begin{equation*}\n",
    "C = \\sqrt{a^2 + b^2}\n",
    "\\end{equation*}\n",
    "\n",
    "#### How does this relate to velocity? Well, think of it like this... The total velocity is the C, the x component of velocity is a, and the y component is b.\n",
    "\n",
    "\n",
    "\\begin{align}\n",
    "\\textrm{Velocity} = \\sqrt{(\\textrm{Velocity}_{x})^2 + (\\textrm{Velocity}_{y})^2}\n",
    "\\end{align}\n",
    "#  \n",
    "## When we try to draw a velocity vector and the x and y components, we try to draw a triangle such that the y component is the opposite side, and the x component is the adjacent side. If we look at the equations above, and do some algebra we can see that :\n",
    "\\begin{align}\n",
    "\\textrm{Opposite (or Y-component)} = \\textrm{Hypotenus} * \\sin(\\Theta)\n",
    "\\end{align}\n",
    "\\begin{align}\n",
    "\\textrm{Adjacent (or X-component)} = \\textrm{Hypotenus} * \\cos(\\Theta)\n",
    "\\end{align}\n",
    "\n",
    "\n"
   ]
  },
  {
   "cell_type": "markdown",
   "metadata": {},
   "source": [
    "# Example Problem :\n",
    "\n",
    "### You're 7 years old in little league baseball, about to go up to bat for your first time today. The pitcher gives you one of those underhanded, super easy tosses right? You smash that ball outta there will the entirety of your being. You've got perfect technique and that ball goes F L Y I N G at 10 meters per second, at 45 degrees into the air. There's no wind, no wind friction, nothing. What are the x and y components of velocity for that ball?\n",
    "\n",
    "\n",
    "![alt text](Baseball.jpg \"Title\")\n",
    "\n",
    "### At 10 meters a second, at 45 degrees, the X and Y components are going to be equal to each other, and their going to equal about 7.07 m/s. Why do they equal each other? Think of it intuitively - if you have a right triangle, and the other two angles are 45 degrees, the two non-hypotenus sides are equal to each other. Sin (45) = Cos (45) \n",
    "\n",
    "\\begin{align}\n",
    "\\textrm{Opposite (or Y-component)} = 10 * \\sin(45)\n",
    "\\end{align}\n",
    "\n",
    "\\begin{align}\n",
    "\\textrm{Adjacent (or X-component)} = 10 * \\cos(45)\n",
    "\\end{align}\n",
    "\n",
    "### Now, what if we said there was wind, that blew at a 30 degrees, at a speed of 5 m/s? What would the x and y components of velocity be?\n",
    "\n",
    "![alt text](Baseball2.jpg \"Title\")\n",
    "\n",
    "### See how we just add the components together? That's a beautiful quality of vectors - you can just add them together, as long as they're the same direction. That's why we break them down into x and y components - it makes it easy to add them together."
   ]
  },
  {
   "cell_type": "markdown",
   "metadata": {},
   "source": [
    "## Let's Try a real problem!\n",
    "![alt text](Q1.jpg \"Title\")\n",
    "\n",
    "## Question 1:\n",
    "#### So there's a square lake (I know, only one of its kind!) and this lake has the most still water you've ever seen. The lake is 1500 by 1500 meters. There are no currents, there are no winds out today, nothing. So basically if you give the boat a push, it will keep going in the same direction at the same velocity forever (or until it hits the end of the lake).\n",
    "#### The boat starts at the lower left hand corner of the lake, you give it a push and it's going 50 meters per second, 60 degrees counter-clockwise from the x-axis.\n",
    "#### What are the X and Y components of Velocity?\n",
    "#### Is the boat going to hit the top edge of the lake, or the right edge of the lake first?\n",
    "#### Lets plot the x and y positions of the boat.\n",
    "#### If the boat reaches the top first, what is the approximate corresponding x-axis component? If it reaches the right edge first, what is the approximate y-axis component? "
   ]
  },
  {
   "cell_type": "code",
   "execution_count": null,
   "metadata": {
    "scrolled": false
   },
   "outputs": [],
   "source": [
    "##You can mess around with most things in this cell. If you want to run the cell, just click inside the cell and press control+enter (or cmd+enter if you're on mac). Just double click on the cell to go back into editing it.\n",
    "\n",
    "time_array = np.linspace(0, 50, 50)  #This creates an array (start point, end point, number of steps) So we want this to represent time, so we create an array from 0 to 50, with 50 steps, so each step is 1 second.\n",
    "x_vel = math.cos(math.radians(60))*50    #enter your x velocity here\n",
    "y_vel = math.sin(math.radians(60))*50    #enter your y velocity here\n",
    "x_distance_array = (time_array*x_vel)     #this multiplies the x velocity with the time array, to get x-distance\n",
    "y_distance_array = (time_array*y_vel)     #this multiplies the y velocity with the time array, to get y-distance\n",
    "\n",
    "plt.figure(figsize=(8,8)) ## this just adjusts the visual size of the graph - feel free to play around with this to adjust the size of the graph\n",
    "plt.plot(x_distance_array,y_distance_array) ##makes a plot for x_distance vs y_distance\n",
    "plt.title('Position of Boat')                          ##Figure out some good title to give this map.\n",
    "plt.xlabel('X Distance')\n",
    "plt.ylabel('Y Distance')\n",
    "\n",
    "\n"
   ]
  },
  {
   "cell_type": "markdown",
   "metadata": {},
   "source": [
    "## Nice, job! Now we're gonna try to add a bit of complexity to it.\n",
    "## Take a look at this picture\n",
    "![alt text](Q2.jpg \"Title\")\n",
    "\n",
    "#### The only difference is, now we've got some wind! We've got wind going in the y direction and the x direction. 8 meters per second in the y direction, and 10 meters per second in the x direction.\n",
    "\n",
    "## Question 2:\n",
    "#### The same exact setup as quesiton 1, but with the added wind.\n",
    "#### You give it a push and it's going 50 meters per second, 60 degrees counter-clockwise from the x-axis.\n",
    "#### The wind is going 15 m/s at 33 degrees counterclockwise from the y-axis (as pictured)\n",
    "#### What are the X and Y components of the wind?\n",
    "#### What are the total X and Y components of the boat now?\n",
    "#### Let's plot the position of the boat.\n",
    "#### If the boat reaches the top first, what is the approximate corresponding x-axis component? If it reaches the right edge first, what is the approximate y-axis component? "
   ]
  },
  {
   "cell_type": "code",
   "execution_count": null,
   "metadata": {},
   "outputs": [],
   "source": [
    "##You can mess around with most things in this cell. If you want to run the cell, just click inside the cell and press control+enter (or cmd+enter if you're on mac). Just double click on the cell to go back into editing it.\n",
    "\n",
    "time_array = np.linspace(0, 70, 70)  #This creates an array (start point, end point, number of steps) So we want this to represent time, so we create an array from 0 to 50, with 50 steps, so each step is 1 second.\n",
    "x_vel = math.cos(math.radians(60))*50 - math.sin(math.radians(33))*15     #enter your x velocity here\n",
    "y_vel = math.sin(math.radians(60)) *50 - math.cos(math.radians(33)) *15   #enter your y velocity here\n",
    "x_distance_array = (time_array*x_vel)     #this multiplies the x velocity with the time array, to get x-distance\n",
    "y_distance_array = (time_array*y_vel)     #this multiplies the y velocity with the time array, to get y-distance\n",
    "\n",
    "\n",
    "plt.figure(figsize=(8,8)) ## this just adjusts the visual size of the graph - feel free to play around with this to adjust the size of the graph\n",
    "plt.plot(x_distance_array,y_distance_array) ##makes a plot for x_distance vs y_distance\n",
    "plt.title('Position of Boat')                          ##Figure out some good title to give this map.\n",
    "plt.xlabel('X Distance')\n",
    "plt.ylabel('Y Distance')"
   ]
  },
  {
   "cell_type": "code",
   "execution_count": null,
   "metadata": {},
   "outputs": [],
   "source": []
  },
  {
   "cell_type": "markdown",
   "metadata": {},
   "source": [
    "## Question 3: What is the difference between a vector and a scalar? Give a real world example of both (different from the examples given earlier)."
   ]
  },
  {
   "cell_type": "markdown",
   "metadata": {},
   "source": [
    "# Q1 Answer : \n",
    "\n",
    "#### What are the X and Y components of Velocity?\n",
    "## X-component is 25 m/s to the RIGHT\n",
    "## Y-component is 43.3 to the TOP\n",
    "###  \n",
    "#### Is the boat going to hit the top edge of the lake, or the right edge of the lake first?\n",
    "## Top edge of the lake\n",
    "###  \n",
    "#### If the boat reaches the top first, what is the approximate corresponding x-axis component? If it reaches the right edge first, what is the approximate y-axis component?\n",
    "## The boat reaches the top first, and the x component is about 850-900 meters (it's 866) \n",
    "\n",
    "##  \n",
    "\n",
    "\n",
    "# Q2 Answers :\n",
    "#### What are the X and Y components of the wind?\n",
    "## X-component is 8.2 m/s to the LEFT\n",
    "## Y-component is 12.6 m/s to the BOTTOM\n",
    "###  \n",
    "#### What are the total X and Y components of the boat now?\n",
    "## Total X is 16.8 m/s\n",
    "## Total Y is 30.7 m/s\n",
    "\n",
    "###  \n",
    "\n",
    "#### If the boat reaches the top first, what is the approximate corresponding x-axis component? If it reaches the right edge first, what is the approximate y-axis component? \n",
    "## The boat reaches the top first, and the x component is slightly less, about 800-850 meters (it's 821 meters)\n",
    "\n",
    "##   \n",
    "\n",
    "\n",
    "# Q3 Answers:\n",
    "# Any force ( like electromagnetic, friction), anything with velocity (like a bullet being shot, a rock being thrown, etc) can be counted as a vector.\n",
    "# Any quantity of things (like ducks in a lake), or any distance (like 50 meters) or any value (like, 5 or 6) are all acceptable.  "
   ]
  }
 ],
 "metadata": {
  "kernelspec": {
   "display_name": "Python 3",
   "language": "python",
   "name": "python3"
  },
  "language_info": {
   "codemirror_mode": {
    "name": "ipython",
    "version": 3
   },
   "file_extension": ".py",
   "mimetype": "text/x-python",
   "name": "python",
   "nbconvert_exporter": "python",
   "pygments_lexer": "ipython3",
   "version": "3.8.3"
  }
 },
 "nbformat": 4,
 "nbformat_minor": 4
}
