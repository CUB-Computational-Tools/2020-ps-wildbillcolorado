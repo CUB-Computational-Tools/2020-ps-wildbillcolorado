{
 "cells": [
  {
   "cell_type": "markdown",
   "metadata": {},
   "source": [
    "# Hello, today we will be learning some P H Y S I C S!\n",
    " \n",
    "### Today, you'll learn how to:\n",
    "> 1: Understand the relationship between velocity, distance, acceleration\n",
    "> 2: Understand how to use derivatives in graphs\n",
    "> 3: Evaluate the qualitative velocity and acceleration from a distance and velocity graph.\n",
    "\n",
    "### Prerequisites:\n",
    "> 1: Introductory Calculus (Just know the basics of derivatives)"
   ]
  },
  {
   "cell_type": "markdown",
   "metadata": {},
   "source": [
    "## What is Distance? \n",
    "Ezpz right? Kinda self explanatory right? It's a measurement of space between two things. Pretty much always a straight line right?\n",
    "## What is Velocity? - \n",
    "It's normally defined as change in distance divided by change time\n",
    "Velocity is a **VECTOR**, so the direction usually matters...but for this exersize, we're going to assume the direction is NEVER CHANGING, and therefore, we don't need to worry about the whole vector thing\n",
    "\n",
    "\n",
    "\\begin{align}\n",
    "\\textrm{Velocity} = \\frac {\\delta \\textrm{Distance}} {\\delta \\textrm{Time}}\n",
    "\\end{align}\n",
    "\n",
    "That little delta sign before the distance and time  - it just means, change - so instead of reading velocity as\n",
    "\"Distance divided by time\" , we should read it as \"Change in distance, divided by Change in time\"\n",
    "\n",
    "## What is Acceleration? - \n",
    "Acceleration is defined as change in velocity over change in time\n",
    "\n",
    "\\begin{align}\n",
    "\\textrm{Acceleration} = \\frac {\\delta \\textrm{Velocity}} {\\delta \\textrm{Time}}\n",
    "\\end{align}\n",
    "\n",
    "\n",
    "So velocity is a change in distance over time, and acceleration is a change in velocity over time... okay now we're just going to plot a graph. All you need to do is go to the cell underneath and press shift+enter (or shift+return if you're a no-good apple product user). This runs the cell. The cells like this current one that have just text in them are Markdown format cells, and the cells that have code in them are in R format. You can double-click on the Markdown cells to view the markdown code, and to get out of the code view, you can press ctrl+enter (ctrl + return for mac), or shift+enter which runs the cell.\n"
   ]
  },
  {
   "cell_type": "code",
   "execution_count": null,
   "metadata": {},
   "outputs": [],
   "source": [
    "## These hastags stop the code from running. This top chunk that is all hashed out is basically the exact same code you'd run, but in Python instead of R. To the right of the code, you'll see additional hash marks, and this is to give a description for what that line of code is actually doing.\n",
    "\n",
    "#import matplotlib.pyplot as plt ##imports the necessary information to make the graph\n",
    "#curve = pd.DataFrame(np.arange(0.0, 11.0, 1.0), columns = list('x')) ## this just gives the x values 0 through 11, at intervals of 1  \n",
    "#curve['y'] = (2* curve['x']) ## This sets the y value to be 2 times the x value\n",
    "#plt.rcParams['figure.figsize'] = [6, 6] ## this just adjusts the visual size of the graph - feel free to play around with this to adjust the size of the graph\n",
    "#plt.plot(curve['x'], curve['y']) ##tells the program to plot the x and y values.\n",
    "#plt.title('Some graph') ##gives titles to the graph and axes.\n",
    "#plt.xlabel('Some X Axis')\n",
    "#plt.ylabel('Some Y Axis')\n",
    "\n",
    "#plt.show() ##display\n",
    "\n",
    "\n",
    "library(tidyverse)  ##import the tidyverse library to use ggplot\n",
    "plot_data_distance <- tibble(  #creates a tibble, which is basically a chart of variables. In this example, we make 2 columns, with 20 rows (plus another row for the title).\n",
    "    time = seq(0,10,0.5), ##this creates 20 rows, from 0 to 10, with 0.5 being the increment.\n",
    "    position = time*2  ##this creates a row for reach row in rime, and multiplies the value in the time row by 2\n",
    ")\n",
    "\n",
    "\n",
    "ggplot(plot_data_distance, aes(x = time,y = position))  ##this does the actual plotting of the plot_data_distance tibble we created above. we chose to give a line, and some points to represent the data. Add some hashtags to play around with how to add/take away the aesthetic parameters.\n",
    " + geom_point() + geom_line()"
   ]
  },
  {
   "cell_type": "markdown",
   "metadata": {},
   "source": [
    "So, we've basically got this form: **y = mx + b**        its the basic slope formula you learn in school\n",
    "\n",
    "# Question 1: Remember, *m* (Rise over Run) is the slope - so in this case, can you apporixmate what the slope (Rise over Run) is of the graph above?\n",
    "\n",
    "\n",
    "# Question 2: So remember, the derivative of a function is the slope of that function - So what is the derivative of the function from the first question?\n",
    "\n",
    "Now we're gonna try a bit of a more complicated graph."
   ]
  },
  {
   "cell_type": "code",
   "execution_count": null,
   "metadata": {},
   "outputs": [],
   "source": [
    "plot_data_distance <- tibble(  ##same as before, except were changing what the position is relative to time. Notice, it's a exponential now.\n",
    "    time = seq(0,10,0.5),\n",
    "    position = 1.6**time\n",
    ")\n",
    "\n",
    "ggplot(plot_data_distance, aes(x = time,y = position)) + \n",
    "  geom_point() + geom_line()"
   ]
  },
  {
   "cell_type": "markdown",
   "metadata": {},
   "source": [
    "So remember when we said the slope is equal to the rise over run? Well check this graph out - what's the rise and run here?\n",
    "\n",
    "It's the Distance / Time - or the same exact equation for Velocity! (distance is the rise, and time is the run)\n",
    "\\begin{align}\n",
    "\\textrm{Velocity} = \\frac {\\delta \\textrm{Distance}} {\\delta \\textrm{Time}}\n",
    "\\end{align}\n",
    "\n",
    "It so happens to be that the equation for this line is \n",
    "\n",
    "\\begin{align}\n",
    "\\textrm{Distance} = 1.6^t\n",
    "\\end{align}\n",
    "\n",
    "**The Velocity is just the slope** of the Distance vs Time graph! The velocity is the slope, or the derivative of distance vs time. If this is news to you, you should probably to read these last few lines a few more times, make ssure you really get it.\n",
    " \n",
    "What is the velocity at time = 1 second? - It's the slope of the line at time = 1 second.\n",
    "# Question 3: Is the velocity greater at time = 2 seconds, or at time = 4 seconds? Why?\n",
    " \n",
    "Now what happens if we take the graph from Distance and Time, and then we take the derivative (or slope) of the line at every second?...\n"
   ]
  },
  {
   "cell_type": "code",
   "execution_count": null,
   "metadata": {},
   "outputs": [],
   "source": [
    "plot_data_velocity <- tibble(\n",
    "    time = seq(0,10,0.5),\n",
    "    position = 1.6**time,\n",
    "    velocity = log(1.6)*position\n",
    ")\n",
    "\n",
    "ggplot(plot_data_velocity, aes(x = time)) +    #now we're plotting two graphs together, the velocity vs time, and the distance vs time.\n",
    " geom_line(aes(y=position), colour = \"red\") + geom_line(aes(y=velocity), colour=\"green\") +\n",
    " ggtitle(\"Velocity(Green) and Position(Red) vs Time\") +labs(y= \"Position (red), Velocity (green)\", x = \"Time\") "
   ]
  },
  {
   "cell_type": "markdown",
   "metadata": {},
   "source": [
    "This is what we get - The derivative of distance vs time - which is velocity!\n",
    "\n",
    "We can compare the graph of Distance (the red line) and the graph of Velocity (the green line). They're a bit similiar, but can you tell what that similiarity is?\n",
    "\n",
    "#### The original equation of the distance vs time graph was \n",
    "\\begin{align}\n",
    "\\textrm{Distance} = 1.6^t\n",
    "\\end{align}\n",
    "#### And that means the derivative (or the slope) of the line is \n",
    "\\begin{align}\n",
    "\\textrm{Distance} = \\textrm{ln}(1.6)*1.6^t\n",
    "\\end{align}\n",
    "\n",
    "We find the velocity by taking the slope of a distance vs time graph, and similiarly, we find the acceleration by taking the slope of a velocity vs time graph.\n",
    "\n",
    "# Question 4: What is greater, the acceleration at 2 seconds, or the acceleration at 4 seconds? Why?\n",
    "\n",
    "\n",
    "# Extra Credit : What is the **scalar** difference between the last two graphs in this exercise? In other words, what is the size comparison of the last 2 graphs? Is the last one smaller by a half, smaller by a quarter, double the size?"
   ]
  },
  {
   "cell_type": "code",
   "execution_count": null,
   "metadata": {},
   "outputs": [],
   "source": []
  }
 ],
 "metadata": {
  "kernelspec": {
   "display_name": "R",
   "language": "R",
   "name": "ir"
  },
  "language_info": {
   "codemirror_mode": "r",
   "file_extension": ".r",
   "mimetype": "text/x-r-source",
   "name": "R",
   "pygments_lexer": "r",
   "version": "4.0.2"
  }
 },
 "nbformat": 4,
 "nbformat_minor": 4
}
