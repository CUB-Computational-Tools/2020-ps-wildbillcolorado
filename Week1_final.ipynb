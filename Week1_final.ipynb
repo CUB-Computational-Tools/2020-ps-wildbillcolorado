{
 "cells": [
  {
   "cell_type": "markdown",
   "metadata": {},
   "source": [
    "<div style=\"background: #efffed;\n",
    "            border: 1px solid grey;\n",
    "            margin: 8px 0 8px 0;\n",
    "            text-align: center;\n",
    "            padding: 8px; \">\n",
    "    <i class=\"fa-play fa\" \n",
    "       style=\"font-size: 40px;\n",
    "              line-height: 40px;\n",
    "              margin: 8px;\n",
    "              color: #444;\">\n",
    "    </i>\n",
    "    <center>\n",
    "    Click into a code cell (the gray blocks below) to select or edit it.<br/>\n",
    "    To run a selected code cell, hit <pre style=\"background: #efffed\">Shift + Enter</pre>\n",
    "    Make sure that each code cell runs successfully before you move on to the next one.\n",
    "    </center>\n",
    "</div>"
   ]
  },
  {
   "cell_type": "code",
   "execution_count": 2,
   "metadata": {},
   "outputs": [],
   "source": [
    "##Copying the libraries and scripts in the example - just in case\n",
    "# load libraries and scripts\n",
    "import pandas as pd\n",
    "import numpy as np\n",
    "import matplotlib.pyplot as plt\n",
    "from scripts.functions import test_add"
   ]
  },
  {
   "cell_type": "code",
   "execution_count": 3,
   "metadata": {},
   "outputs": [
    {
     "name": "stdout",
     "output_type": "stream",
     "text": [
      "{'commit_hash': '2486838d9',\n",
      " 'commit_source': 'installation',\n",
      " 'default_encoding': 'UTF-8',\n",
      " 'ipython_path': '/srv/conda/envs/notebook/lib/python3.7/site-packages/IPython',\n",
      " 'ipython_version': '7.16.1',\n",
      " 'os_name': 'posix',\n",
      " 'platform': 'Linux-4.19.104+-x86_64-with-debian-buster-sid',\n",
      " 'sys_executable': '/srv/conda/envs/notebook/bin/python',\n",
      " 'sys_platform': 'linux',\n",
      " 'sys_version': '3.7.8 | packaged by conda-forge | (default, Jul 23 2020, '\n",
      "                '03:54:19) \\n'\n",
      "                '[GCC 7.5.0]'}\n"
     ]
    }
   ],
   "source": [
    "##Again, just copying this from the example.\n",
    "# load IPython library for comprehensive system info\n",
    "import IPython\n",
    "print(IPython.sys_info())"
   ]
  },
  {
   "cell_type": "markdown",
   "metadata": {},
   "source": [
    "# Hello, today we will be learning some P H Y S I C S!\n",
    "# Today, you'll learn how to:\n",
    "# 1: Understand the relationship between velocity, distance, acceleration\n",
    "# 2: Understand how to use derivatives in graphs\n",
    "# 3: Evaluate the qualitative velocity and acceleration from a distance and velocity graph.\n",
    "\n",
    "\n",
    "# ESSSKETIITTT!!!!"
   ]
  },
  {
   "cell_type": "markdown",
   "metadata": {},
   "source": [
    "# Okay, so first thing's first - \n",
    "# What is Distance? - Ezpz right? Kinda self explanatory right? It's a measurement of space between two things. Pretty much always a straight line right?\n",
    "# What is Velocity? - It's normally defined as distance divided by time\n",
    "\n",
    "\\begin{align}\n",
    "Velocity = \\delta Distance  /  \\delta Time\n",
    "\\end{align}\n",
    "\n",
    "# What is Acceleration? - It's defined as Change in velocity over time\n",
    "\n",
    "\\begin{align}\n",
    "Acceleration = \\delta Velocity  /  \\delta Time\n",
    "\\end{align}\n",
    "\n",
    "# So velocity is a change in distance over time, and acceleration is a change in velocity over time... okay now one more thing.\n"
   ]
  },
  {
   "cell_type": "code",
   "execution_count": 4,
   "metadata": {},
   "outputs": [],
   "source": [
    "import pandas as pd\n",
    "import numpy as np\n",
    "curve = pd.DataFrame(np.arange(0.0, 11.0, 1.0), columns = list('x'))\n",
    "curve['y'] = (2* curve['x'])"
   ]
  },
  {
   "cell_type": "code",
   "execution_count": null,
   "metadata": {},
   "outputs": [],
   "source": [
    "import matplotlib.pyplot as plt\n",
    "plt.rcParams['figure.figsize'] = [6, 6]\n",
    "plt.plot(curve['x'], curve['y'])\n",
    "plt.title('Some graph')\n",
    "plt.xlabel('Some X Axis')\n",
    "plt.ylabel('Some Y Axis')\n",
    "\n",
    "plt.show()"
   ]
  },
  {
   "cell_type": "markdown",
   "metadata": {},
   "source": [
    "# Take my word, the above graph is just y= 2x\n",
    "# So, we've basically got this form: y = mx + b        its the basic slope formula you learn in school\n",
    "# Question 1: Remember, *m* (Rise over Run) is the slope - so in this case, can you apporixmate what the slope (Rise over Run) is?\n"
   ]
  },
  {
   "cell_type": "markdown",
   "metadata": {},
   "source": [
    "# Cool, hopefully you got that right\n",
    "\n",
    "# Question 2: So remember, the derivative of a function is the slope of that function - so what is the derivative of the function from the first question?"
   ]
  },
  {
   "cell_type": "markdown",
   "metadata": {},
   "source": [
    "# *in least condescending voice possible** Alright, good job!"
   ]
  },
  {
   "cell_type": "markdown",
   "metadata": {},
   "source": [
    "# Now we're gonna try a bit of a more complicated graph."
   ]
  },
  {
   "cell_type": "code",
   "execution_count": 15,
   "metadata": {},
   "outputs": [
    {
     "data": {
      "text/html": [
       "<div>\n",
       "<style scoped>\n",
       "    .dataframe tbody tr th:only-of-type {\n",
       "        vertical-align: middle;\n",
       "    }\n",
       "\n",
       "    .dataframe tbody tr th {\n",
       "        vertical-align: top;\n",
       "    }\n",
       "\n",
       "    .dataframe thead th {\n",
       "        text-align: right;\n",
       "    }\n",
       "</style>\n",
       "<table border=\"1\" class=\"dataframe\">\n",
       "  <thead>\n",
       "    <tr style=\"text-align: right;\">\n",
       "      <th></th>\n",
       "      <th>x</th>\n",
       "      <th>y</th>\n",
       "    </tr>\n",
       "  </thead>\n",
       "  <tbody>\n",
       "    <tr>\n",
       "      <th>1</th>\n",
       "      <td>0.5</td>\n",
       "      <td>1.264911</td>\n",
       "    </tr>\n",
       "    <tr>\n",
       "      <th>2</th>\n",
       "      <td>1.0</td>\n",
       "      <td>1.600000</td>\n",
       "    </tr>\n",
       "    <tr>\n",
       "      <th>3</th>\n",
       "      <td>1.5</td>\n",
       "      <td>2.023858</td>\n",
       "    </tr>\n",
       "    <tr>\n",
       "      <th>4</th>\n",
       "      <td>2.0</td>\n",
       "      <td>2.560000</td>\n",
       "    </tr>\n",
       "    <tr>\n",
       "      <th>5</th>\n",
       "      <td>2.5</td>\n",
       "      <td>3.238172</td>\n",
       "    </tr>\n",
       "    <tr>\n",
       "      <th>6</th>\n",
       "      <td>3.0</td>\n",
       "      <td>4.096000</td>\n",
       "    </tr>\n",
       "    <tr>\n",
       "      <th>7</th>\n",
       "      <td>3.5</td>\n",
       "      <td>5.181076</td>\n",
       "    </tr>\n",
       "    <tr>\n",
       "      <th>8</th>\n",
       "      <td>4.0</td>\n",
       "      <td>6.553600</td>\n",
       "    </tr>\n",
       "    <tr>\n",
       "      <th>9</th>\n",
       "      <td>4.5</td>\n",
       "      <td>8.289721</td>\n",
       "    </tr>\n",
       "    <tr>\n",
       "      <th>10</th>\n",
       "      <td>5.0</td>\n",
       "      <td>10.485760</td>\n",
       "    </tr>\n",
       "    <tr>\n",
       "      <th>11</th>\n",
       "      <td>5.5</td>\n",
       "      <td>13.263554</td>\n",
       "    </tr>\n",
       "    <tr>\n",
       "      <th>12</th>\n",
       "      <td>6.0</td>\n",
       "      <td>16.777216</td>\n",
       "    </tr>\n",
       "    <tr>\n",
       "      <th>13</th>\n",
       "      <td>6.5</td>\n",
       "      <td>21.221686</td>\n",
       "    </tr>\n",
       "  </tbody>\n",
       "</table>\n",
       "</div>"
      ],
      "text/plain": [
       "      x          y\n",
       "1   0.5   1.264911\n",
       "2   1.0   1.600000\n",
       "3   1.5   2.023858\n",
       "4   2.0   2.560000\n",
       "5   2.5   3.238172\n",
       "6   3.0   4.096000\n",
       "7   3.5   5.181076\n",
       "8   4.0   6.553600\n",
       "9   4.5   8.289721\n",
       "10  5.0  10.485760\n",
       "11  5.5  13.263554\n",
       "12  6.0  16.777216\n",
       "13  6.5  21.221686"
      ]
     },
     "execution_count": 15,
     "metadata": {},
     "output_type": "execute_result"
    }
   ],
   "source": [
    "\n",
    "curve = pd.DataFrame(np.arange(0.0, 7.0, 0.5), columns = list('x'))\n",
    "curve['y'] = (1.6** curve['x'])\n",
    "curve[1:20]\n"
   ]
  },
  {
   "cell_type": "code",
   "execution_count": 16,
   "metadata": {},
   "outputs": [
    {
     "data": {
      "image/png": "[encoded data removed]",
      "text/plain": [
       "<Figure size 432x432 with 1 Axes>"
      ]
     },
     "metadata": {
      "needs_background": "light"
     },
     "output_type": "display_data"
    }
   ],
   "source": [
    "plt.rcParams['figure.figsize'] = [6, 6]\n",
    "plt.plot(curve['x'], curve['y'])\n",
    "plt.title('Plot for Velocity')\n",
    "plt.xlabel('Time(sec)')\n",
    "plt.ylabel('Distance(M)')\n",
    "\n",
    "plt.show()"
   ]
  },
  {
   "cell_type": "markdown",
   "metadata": {},
   "source": [
    "# So remember when we said the slope is equal to the rise over run? Well check this graph out - what's the rise and run here?\n",
    "\n",
    "# It's the Distance / Time - or the same exact equation for Velocity!\n",
    "\\begin{align}\n",
    "Velocity = \\delta Distance  /  \\delta Time\n",
    "\\end{align}\n",
    "\n",
    "# It so happens to be that the equation for this line is \n",
    "\n",
    "\\begin{align}\n",
    "Distance = 1.6^t\n",
    "\\end{align}\n",
    "# The Velocity is just the slope of the Distance vs Time graph! The velocity is the slope, or the derivative of distance vs time. If this is new to you, you should probably to read these last few lines a few more times."
   ]
  },
  {
   "cell_type": "markdown",
   "metadata": {},
   "source": [
    "# What is the velocity at time = 1 second? - It's the slope of the line at time = 1 second.\n",
    "# Question 3: Is the velocity greater at time = 2 seconds, or at time = 4 seconds?\n",
    "\n",
    "# Now what happens if we take the graph from Distance and Time, and then we take the derivative (or slope) of the line at every second?...\n",
    "\n"
   ]
  },
  {
   "cell_type": "code",
   "execution_count": 21,
   "metadata": {},
   "outputs": [
    {
     "data": {
      "text/html": [
       "<div>\n",
       "<style scoped>\n",
       "    .dataframe tbody tr th:only-of-type {\n",
       "        vertical-align: middle;\n",
       "    }\n",
       "\n",
       "    .dataframe tbody tr th {\n",
       "        vertical-align: top;\n",
       "    }\n",
       "\n",
       "    .dataframe thead th {\n",
       "        text-align: right;\n",
       "    }\n",
       "</style>\n",
       "<table border=\"1\" class=\"dataframe\">\n",
       "  <thead>\n",
       "    <tr style=\"text-align: right;\">\n",
       "      <th></th>\n",
       "      <th>x</th>\n",
       "      <th>y</th>\n",
       "    </tr>\n",
       "  </thead>\n",
       "  <tbody>\n",
       "    <tr>\n",
       "      <th>1</th>\n",
       "      <td>0.5</td>\n",
       "      <td>0.594513</td>\n",
       "    </tr>\n",
       "    <tr>\n",
       "      <th>2</th>\n",
       "      <td>1.0</td>\n",
       "      <td>0.752006</td>\n",
       "    </tr>\n",
       "    <tr>\n",
       "      <th>3</th>\n",
       "      <td>1.5</td>\n",
       "      <td>0.951220</td>\n",
       "    </tr>\n",
       "    <tr>\n",
       "      <th>4</th>\n",
       "      <td>2.0</td>\n",
       "      <td>1.203209</td>\n",
       "    </tr>\n",
       "    <tr>\n",
       "      <th>5</th>\n",
       "      <td>2.5</td>\n",
       "      <td>1.521953</td>\n",
       "    </tr>\n",
       "    <tr>\n",
       "      <th>6</th>\n",
       "      <td>3.0</td>\n",
       "      <td>1.925135</td>\n",
       "    </tr>\n",
       "    <tr>\n",
       "      <th>7</th>\n",
       "      <td>3.5</td>\n",
       "      <td>2.435124</td>\n",
       "    </tr>\n",
       "    <tr>\n",
       "      <th>8</th>\n",
       "      <td>4.0</td>\n",
       "      <td>3.080216</td>\n",
       "    </tr>\n",
       "    <tr>\n",
       "      <th>9</th>\n",
       "      <td>4.5</td>\n",
       "      <td>3.896199</td>\n",
       "    </tr>\n",
       "    <tr>\n",
       "      <th>10</th>\n",
       "      <td>5.0</td>\n",
       "      <td>4.928345</td>\n",
       "    </tr>\n",
       "    <tr>\n",
       "      <th>11</th>\n",
       "      <td>5.5</td>\n",
       "      <td>6.233918</td>\n",
       "    </tr>\n",
       "    <tr>\n",
       "      <th>12</th>\n",
       "      <td>6.0</td>\n",
       "      <td>7.885352</td>\n",
       "    </tr>\n",
       "    <tr>\n",
       "      <th>13</th>\n",
       "      <td>6.5</td>\n",
       "      <td>9.974270</td>\n",
       "    </tr>\n",
       "  </tbody>\n",
       "</table>\n",
       "</div>"
      ],
      "text/plain": [
       "      x         y\n",
       "1   0.5  0.594513\n",
       "2   1.0  0.752006\n",
       "3   1.5  0.951220\n",
       "4   2.0  1.203209\n",
       "5   2.5  1.521953\n",
       "6   3.0  1.925135\n",
       "7   3.5  2.435124\n",
       "8   4.0  3.080216\n",
       "9   4.5  3.896199\n",
       "10  5.0  4.928345\n",
       "11  5.5  6.233918\n",
       "12  6.0  7.885352\n",
       "13  6.5  9.974270"
      ]
     },
     "execution_count": 21,
     "metadata": {},
     "output_type": "execute_result"
    }
   ],
   "source": [
    "curve = pd.DataFrame(np.arange(0.0, 7.0, 0.5), columns = list('x'))\n",
    "curve['y'] = (np.log(1.6) * 1.6** curve['x'])\n",
    "curve[1:20]"
   ]
  },
  {
   "cell_type": "code",
   "execution_count": 22,
   "metadata": {},
   "outputs": [
    {
     "data": {
      "image/png": "[encoded data removed]",
      "text/plain": [
       "<Figure size 432x432 with 1 Axes>"
      ]
     },
     "metadata": {
      "needs_background": "light"
     },
     "output_type": "display_data"
    }
   ],
   "source": [
    "plt.rcParams['figure.figsize'] = [6, 6]\n",
    "plt.plot(curve['x'], curve['y'])\n",
    "plt.title('Plot for Acceleration')\n",
    "plt.xlabel('Time(sec)')\n",
    "plt.ylabel('Velocity(M/s)')\n",
    "\n",
    "plt.show()"
   ]
  },
  {
   "cell_type": "markdown",
   "metadata": {},
   "source": [
    "# This is what we get - The derivative of distance vs time - which is velocity!\n",
    "\n",
    "# We can compare the graph of Velocity and the graph of Acceleration. I know they look similiar, but if you look at the Y axes, you can tell they are a bit different in scale.\n",
    "\n",
    "# The original equation of the distance vs time graph was \n",
    "\\begin{align}\n",
    "Distance = 1.6^t\n",
    "\\end{align}\n",
    "# And that means the slope, or derivative of the line is \n",
    "\\begin{align}\n",
    "Distance = ln(1.6)*1.6^t\n",
    "\\end{align}\n",
    "\n",
    "# We find the velocity by taking the slope of a distance vs time graph, and similiarly, we find the acceleration by taking the slope of a velocity vs time graph.\n",
    "\n",
    "# Question 4: What is greater, the acceleration at 2 seconds, or the acceleration at 4 seconds?"
   ]
  },
  {
   "cell_type": "code",
   "execution_count": null,
   "metadata": {},
   "outputs": [],
   "source": []
  },
  {
   "cell_type": "code",
   "execution_count": null,
   "metadata": {},
   "outputs": [],
   "source": []
  }
 ],
 "metadata": {
  "kernelspec": {
   "display_name": "Python 3",
   "language": "python",
   "name": "python3"
  },
  "language_info": {
   "codemirror_mode": {
    "name": "ipython",
    "version": 3
   },
   "file_extension": ".py",
   "mimetype": "text/x-python",
   "name": "python",
   "nbconvert_exporter": "python",
   "pygments_lexer": "ipython3",
   "version": "3.7.8"
  }
 },
 "nbformat": 4,
 "nbformat_minor": 4
}
