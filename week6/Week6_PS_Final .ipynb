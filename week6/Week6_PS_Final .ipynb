{
 "cells": [
  {
   "cell_type": "code",
   "execution_count": null,
   "metadata": {},
   "outputs": [],
   "source": [
    "library(tidyverse)\n"
   ]
  },
  {
   "cell_type": "markdown",
   "metadata": {},
   "source": [
    "# Hello, today's lesson: Velocity and Vectors\n",
    "Before we start, please go to the top cell and press shift+enter  (this is how you run a cell)\n",
    "# Learning Goals:\n",
    "### 1: Distinguish the qualities of a VECTOR from a SCALAR\n",
    "### 2: Break down a vector into it's x and y components\n",
    "### 3: Create a plot from arrays of data\n",
    "### 4: Calculate the X and Y components of Velocity\n",
    "# Prerequisites:\n",
    "### 1: Take the previous lesson on Velocity and Acceleration"
   ]
  },
  {
   "cell_type": "markdown",
   "metadata": {},
   "source": [
    "## Review : What is Velocity? - \n",
    "It's normally defined as **change in distance divided by change time**\n",
    "Velocity is a **VECTOR**, so the direction usually matters...in the last lesson, we just looked at velocity in one direction, in one dimension, but in this lesson we are going to talk about velocity in 2 dimensions.\n",
    "\n",
    "## What is a VECTOR?\n",
    "Super simple - it is a quantitiy that has a **value, as well as direction**. So instead of saying the velocity is 10 m/s, you HAVE to say **velocity is 10 m/s in a *blank* direction**. The quantitiy cannot exist without the direction. It's different than mass for instance, which is a SCALAR. Scalar's are quantities with a value and no direction, Vectors are quantities with a value and direction.  Some examples of a scalar include the number of apples a store sells, or the number of grains of sand on a beach. Some examples of vectors are wind measurements, and gravitational force (because it always points in the direction of the center of mass). \n",
    "\n",
    "## Pythagorean Thory\n",
    "Who said geometry was a useless math class? Triangles are super important shapes in pretty much every science discipline, and one way they are especially important is in understanding vectors.\n",
    "\n",
    "Remember, the HYPOTENUS of a RIGHT TRIANGLE is equal to the square root of the sums of the length and width.\n",
    "![alt text](Pythagorean(1).gif \"Title\")\n",
    "\n",
    "\\begin{equation*}\n",
    "C = \\sqrt{a^2 + b^2}\n",
    "\\end{equation*}\n",
    "\n",
    "How does this relate to velocity? Well, think of it like this... **The total velocity is the C, the x component of velocity is a, and the y component is b.**\n",
    "\n",
    "\n",
    "\\begin{align}\n",
    "\\textrm{Velocity} = \\sqrt{(\\textrm{Velocity}_{x})^2 + (\\textrm{Velocity}_{y})^2}\n",
    "\\end{align}\n",
    "#  \n",
    "## When we try to draw a velocity vector and the x and y components, we try to draw a triangle such that the y component is the opposite side, and the x component is the adjacent side. If we look at the equations above, and do some algebra we can see that :\n",
    "\\begin{align}\n",
    "\\textrm{Opposite (or Y-component)} = \\textrm{Hypotenus} * \\sin(\\Theta)\n",
    "\\end{align}\n",
    "\\begin{align}\n",
    "\\textrm{Adjacent (or X-component)} = \\textrm{Hypotenus} * \\cos(\\Theta)\n",
    "\\end{align}\n",
    "\n"
   ]
  },
  {
   "cell_type": "markdown",
   "metadata": {},
   "source": [
    "# Example Problem :\n",
    "\n",
    "You're 7 years old in little league baseball, about to go up to bat for your first time today. The pitcher gives you one of those underhanded, super easy tosses right? You smash that ball outta there will the entirety of your being. You've got perfect technique and that ball goes F L Y I N G at 10 meters per second, at 45 degrees into the air. There's no wind, no wind friction, nothing. What are the x and y components of velocity for that ball?\n",
    "\n",
    "\n",
    "![alt text](Baseball.jpg \"Title\")\n",
    "\n",
    "At 10 meters a second, at 45 degrees NE, the X and Y components are going to be equal to each other, and their going to equal about 7.07 m/s. Why do they equal each other? Think of it intuitively - if you have a right triangle, and the other two angles are 45 degrees, the two non-hypotenus sides are equal to each other. Sin (45) = Cos (45) \n",
    "\n",
    "\\begin{align}\n",
    "\\textrm{Opposite (or Y-component)} = 10 * \\sin(45)\n",
    "\\end{align}\n",
    "\n",
    "\\begin{align}\n",
    "\\textrm{Adjacent (or X-component)} = 10 * \\cos(45)\n",
    "\\end{align}\n",
    "\n",
    "Now, what if we said there was wind, that blew at 30 degrees north from east, at a speed of 5 m/s? What would the x and y components of velocity be?\n",
    "\n",
    "![alt text](Baseball2.jpg \"Title\")\n",
    "\n",
    "### See how we just add the components together? That's a beautiful quality of vectors - you can just add them together, as long as they're the same direction. That's why we break them down into x and y components - it makes it easy to add them together."
   ]
  },
  {
   "cell_type": "markdown",
   "metadata": {},
   "source": [
    "## Let's Try a real problem!\n",
    "![alt text](Q1.jpg \"Title\")\n",
    "\n",
    "## Question 1:\n",
    "So there's a square lake (I know, only one of its kind!) and this lake has the most still water you've ever seen. The lake is 1500 by 1500 meters. There are no currents, there are no winds out today, nothing. This boat has an unreal engine that makes it go 50 meters per second, and reaches it max speed instantaneously.\n",
    "\n",
    "The boat starts at the lower left hand corner of the lake, and it's going 50 meters per second, 60 degrees counter-clockwise from the x-axis.\n",
    "\n",
    "#### What are the X and Y components of Velocity?\n",
    "#### Is the boat going to hit the top edge of the lake, or the right edge of the lake first?\n",
    "#### Lets plot the x and y positions of the boat.\n",
    "#### If the boat reaches the top first, what is the approximate corresponding x-axis component? If it reaches the right edge first, what is the approximate y-axis component? "
   ]
  },
  {
   "cell_type": "code",
   "execution_count": null,
   "metadata": {},
   "outputs": [],
   "source": [
    "##Some hints : R will automatically use radians. Remember, there are 2pi radians in 360 degrees. \n",
    "\n",
    "plot_data_distance <- tibble(\n",
    "    time = seq(0, 50, 1),\n",
    "    x_vel_boat = cos(60 *pi/180)*50,\n",
    "    y_vel_boat = sin(60*pi/180)*50,\n",
    "    x_dist = time*x_vel_boat,\n",
    "    y_dist = time*y_vel_boat,\n",
    ")\n",
    "#plot_data_distance\n",
    "ggplot(plot_data_distance , aes(x = x_dist, y = y_dist)) + \n",
    "geom_point() + geom_line()\n"
   ]
  },
  {
   "cell_type": "markdown",
   "metadata": {},
   "source": [
    "Take a look at the graph you produced above. Notice the x and y axes are different scales right? So imagine we made the axes the same scale. Now imagine the square lake overlain on this graph. That should help answer some of the parts in Question 1.\n",
    "\n",
    "Now we're gonna try to add a bit of complexity to it.\n",
    "## Take a look at this picture\n",
    "![alt text](Q2.jpg \"Title\")\n",
    "\n",
    "#### The only difference is, now we've got some wind! We've got wind going in the y direction and the x direction. 8 meters per second in the y direction, and 10 meters per second in the x direction.\n",
    "\n",
    "## Question 2:\n",
    "#### The same exact setup as quesiton 1, but with the added wind.\n",
    "#### It's going 50 meters per second, 60 degrees counter-clockwise from the x-axis.\n",
    "#### The wind is going 15 m/s at 33 degrees counterclockwise from the y-axis (as pictured)\n",
    "#### What are the X and Y components of the wind?\n",
    "#### What are the total X and Y components of the boat now?\n",
    "#### Let's plot the position of the boat.\n",
    "#### If the boat reaches the top first, what is the approximate corresponding x-axis component? If it reaches the right edge first, what is the approximate y-axis component? "
   ]
  },
  {
   "cell_type": "code",
   "execution_count": null,
   "metadata": {},
   "outputs": [],
   "source": [
    "plot_data_distance <- tibble(\n",
    "    time = seq(0, 100, 1),\n",
    "    x_vel_boat = , ##enter your values for the variables in the same way as you did in the above question.\n",
    "    y_vel_boat = ,\n",
    "    x_vel_wind = ,\n",
    "    y_vel_wind = ,\n",
    "    x_vel_total = , #think about what goes here, and if the vectors are positive or negative\n",
    "    y_vel_total = ,\n",
    "    x_dist = time*x_vel_total,\n",
    "    y_dist = time*y_vel_total,\n",
    "    \n",
    ")\n",
    "#plot_data_distance\n",
    "ggplot(plot_data_distance , aes(x = x_dist, y = y_dist)) + \n",
    "geom_point() + geom_line() \n",
    "\n",
    "\n"
   ]
  },
  {
   "cell_type": "code",
   "execution_count": null,
   "metadata": {},
   "outputs": [],
   "source": [
    "## Now we're going to look at the individual components and see how they add up. We're gonna plot the same lines, but we're \n",
    "## going to overlay them on the same graph. This can be really useful when you want to compare similar datasets - think of \n",
    "## topographic transects (would be X distance vs Y Height), chemical composition changes over time( would be X time vs \n",
    "## Y composition %), etc.\n",
    "\n",
    "#Enter the same values you got from question 2 below here:\n",
    "\n",
    "plot_data_distance <- tibble(\n",
    "    time = seq(0, 20, 1),\n",
    "    x_vel_boat = \n",
    "    y_vel_boat = \n",
    "    x_vel_wind = \n",
    "    y_vel_wind = \n",
    "    x_vel_total = \n",
    "    y_vel_total = \n",
    "    x_dist = time*x_vel_total,\n",
    "    y_dist = time*y_vel_total,\n",
    "    \n",
    "    \n",
    ")\n",
    "#plot_data_distance\n",
    "## but here we're going to add another geom_lines\n",
    "ggplot(plot_data_distance , aes(x = x_dist, y = y_dist)) + geom_point() + \n",
    " geom_line(aes(x=x_vel_boat*time, y=y_vel_boat*time), colour =\"green\") + \n",
    " geom_line(aes(x=x_vel_wind*time, y=y_vel_wind*time), colour = \"red\") \n",
    "\n"
   ]
  },
  {
   "cell_type": "markdown",
   "metadata": {},
   "source": [
    "# Question 3: \n",
    "Please draw a triangle showing how the vectors of the wind, the boat speed, and the total speed are related. Label each side of the triangle and make sure you are using **vectors.**\n",
    "\n",
    "# Question 4: \n",
    "What is the difference between a vector and a scalar? Give a real world example of both (different from the examples given earlier)."
   ]
  },
  {
   "cell_type": "markdown",
   "metadata": {},
   "source": []
  },
  {
   "cell_type": "code",
   "execution_count": null,
   "metadata": {},
   "outputs": [],
   "source": []
  },
  {
   "cell_type": "code",
   "execution_count": null,
   "metadata": {},
   "outputs": [],
   "source": []
  }
 ],
 "metadata": {
  "kernelspec": {
   "display_name": "R",
   "language": "R",
   "name": "ir"
  },
  "language_info": {
   "codemirror_mode": "r",
   "file_extension": ".r",
   "mimetype": "text/x-r-source",
   "name": "R",
   "pygments_lexer": "r",
   "version": "4.0.2"
  }
 },
 "nbformat": 4,
 "nbformat_minor": 4
}
