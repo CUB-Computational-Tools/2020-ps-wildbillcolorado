{
 "cells": [
  {
   "cell_type": "markdown",
   "metadata": {},
   "source": [
    "<div style=\"background: #efffed;\n",
    "            border: 1px solid grey;\n",
    "            margin: 8px 0 8px 0;\n",
    "            text-align: center;\n",
    "            padding: 8px; \">\n",
    "    <i class=\"fa-play fa\" \n",
    "       style=\"font-size: 40px;\n",
    "              line-height: 40px;\n",
    "              margin: 8px;\n",
    "              color: #444;\">\n",
    "    </i>\n",
    "    <center>\n",
    "    Click into a code cell (the gray blocks below) to select or edit it.<br/>\n",
    "    To run a selected code cell, hit <pre style=\"background: #efffed\">Shift + Enter</pre>\n",
    "    Make sure that each code cell runs successfully before you move on to the next one.\n",
    "    </center>\n",
    "</div>"
   ]
  },
  {
   "cell_type": "code",
   "execution_count": null,
   "metadata": {},
   "outputs": [],
   "source": [
    "##This is just necessery code to run everything needed in this lesson\n",
    "# load libraries and scripts\n",
    "import pandas as pd\n",
    "import numpy as np\n",
    "import matplotlib.pyplot as plt\n",
    "import ternary"
   ]
  },
  {
   "cell_type": "markdown",
   "metadata": {},
   "source": [
    "# Classifying Clastic Sediments:\n",
    "### In this lesson you'll learn:\n",
    "># 1: The qualities that are used in identifying sediments (particularly clastic sediments)\n",
    "># 2: How to use elif and for loops in relation to classifying sediments.\n",
    "># 3: How to normalize parameters.\n",
    "># 4: How to create a ternary diagram using the ternary library\n",
    "\n"
   ]
  },
  {
   "cell_type": "markdown",
   "metadata": {},
   "source": [
    "# Prerequisites:\n",
    "#### You should already know: \n",
    ">### 1: How to install a python library\n",
    ">### 2: How to read in an excel spreadsheet\n",
    ">### 3: How to assign variables and do basic arithmetic with those variables\n",
    ">### 4: A bit about pandas dataframes\n",
    ">### 5: How to write a basic for and elif loop.\n",
    "#### Other than that, this is some super basic geology and no prior geology experience is needed"
   ]
  },
  {
   "cell_type": "markdown",
   "metadata": {},
   "source": [
    "# Sedimentary rocks\n",
    "\n",
    "#### As you may know, there are three fundamental classification of rocks - Sedimentary, Igneous, and Metamorphic.\n",
    "#### Beyond these super broad classifications, we have much more specific classes based on what is helpful to focus on. In sedimentary rocks, we have clasitc and non-clastic sub classes, which further subdivide into other sub-sub-classes. We look at different classifications based on what type of questions we're trying to answer. Sedimentary rocks are broadly classified into three major categories based on their composition -\n",
    "\n",
    "## **CLASTIC** (derived from weathering and erosion of land materials)\n",
    "## **CRYSTALLINE** (form from precipitation of dissolved salts in sea water)\n",
    "## **BIOCLASTIC** (fragments of living organisms). \n",
    "\n",
    "\n",
    "![alt text](general_sedimentary_classification.JPG)\n",
    "\n",
    "## The **clastic** sedimentary rocks are identified and named by grain size, while the crystalline and bioclastic rocks are identified by **composition**. Here is a chart useful for identifying clastic sediments, giving classifications of grain size.\n",
    "![alt text](udden_wentworth.png)\n",
    "\n",
    "# Ternary Diagram\n",
    "\n",
    "## As a geologist, we often plot qualities of rocks or sediments in a Ternary Diagram.\n",
    "## These are pretty useful, because they allow us to plot 3 variables (or dimensions) in a 2 dimensional space. The only thing we need to make sure when plotting these, is the variables need to add to a constant. In most applications for undergrad geology courses, the variables are going to be 3 variables of a rock (like grain size, or chemical composition), and they are going to add to 100.\n",
    "\n",
    "![alt text](Clastic_Classification.jpg)\n",
    "\n",
    "## Using the above ternary, let's try to figure out how to classify a rock that is 65% sand, 32% gravel, and 3 % mud. This is probably going to be a bit confusing at first, and it's okay if it seems weird the first time through. Try to get to the end of the section, and hopefully everything will start to click towards the end. If we look at the above figure, notice, the top point represents 100% gravel, and the bottom line represents 0 % gravel. The right bottom point represents 100% mud, and the left side represents 0% mud. The bottom left corner represents 100% sand, and the right side represents 0 percent sand. Let's start with gravel. We would start at the very bottom line (this represents 0% gravel, and go straight up the triangle, until we reach 32% the height of the triangle, and we draw a straight line parellel with the bottom (the blue line). Next, lets do the mud axis, and so we know it's 3% mud. So we go to very left side, because that represents 0% mud, and we go straight to the bottom right corner, 3% of the distance to the corner and draw a line that is parallel to the left side. (this is the green line). \n",
    "## The point where these two lines intersect is the composition of the rock. Notice, if we draw a line that is perpendicular to the right side (red line), the point is intersected, and the sand value is given at about 65% on the bottom axis. \n",
    "## We can see that this rock would be a Sandy Conglomerate.\n",
    "\n",
    "![alt text](Clastic_example.jpg)\n",
    "\n",
    "## I know this can be a bit confusing, and this picture isn't very good, because It doesnt have many grid lines, so here's another example, with more gridlines to help with visualizing each axis.\n",
    "\n",
    "![alt text](Ternary_explanation.jpg)\n",
    "\n",
    "## Notice, the grid lines are all parallel with the corresponding side - sand is parellel with the right side, mud is parallel with the left side, and gravel is parellel with the bottom. Go back  and make sure you understand the ternary plot explanation. Also, if these explanations are not doing it for you (We're only limited to a stationary diagram after all), go on youtube and search how to read a ternary plot. There are tons of good explanations and video examples online.\n",
    "\n",
    "# Normalizing the parameters:\n",
    "## Often times, there will be instances where the components you are trying to measure do not add to 100 (or whatever constant you need it to add up to). In the example above,  the sand, gravel, and mud percentagess added up to 100. What if instead, the sample we were looking at was 15% gravel, 20% sand, 30% mud, and 35% crystalline? And we still wanted to plot on the mud/sand/gravel ternary diagram? It wouldnt work until we normalize the data. What we need to do is to only look at the gravel, sand, and mud paramteres and get rid of the crystalline.\n",
    "## So how do we normalize data? What we would do is say, gravel, sand, and mud make up 100% of what we want to look at, so 65%(15+20+30) of the rock is what we want to look at. 15/65 = 23%, 20/65 = 31%, and 30/65 =  46%. Now look, 23 + 31 + 46 adds up to 100. The data is now normallized. The normalization equation is as follows:\n",
    "\n",
    "\\begin{align}\n",
    "\\textrm{Normalized Total (in ternary plots, it is the sum of the 3 paramters you want to plot)} = X_1 + X_2 + X_3 = N_t\n",
    "\\end{align}\n",
    "\n",
    "\n",
    "\\begin{align}\n",
    "\\textrm{New Normalized Parameters}= \\begin{cases}\n",
    "X_1/N_t = X_{N1} \\\\\n",
    "X_2/N_t = X_{N2} \\\\\n",
    "X_3/N_t = X_{N3} \\\\\n",
    "\\end{cases}\n",
    "\\end{align}\n",
    "\n",
    "\\begin{align}\n",
    "X_{N1} + X_{N2} + X_{N3} = 100\n",
    "\\end{align}\n",
    "\n",
    "# One more type of ternary (some say it's almost a quad(t)ernary lol)\n",
    "\n",
    "## Up till now, we've sorta just focused on one type of ternary plot - the clast size of clastic sediments/rocks. Instead of looking at clast size, we'll be looking at compoisition. For the purpose of this exercise, we won't have to ever normalize the composition of rocks, only the clast sizes. In this next ternary, we're only going to be looking at feldspar content, quartz content, and lithic content in the main body of the ternary but we're going to add one more dimension - percent matrix. It ends up giving the ternary an elongate-triangle shape.\n",
    "## Here is a chart of the ternary we're gonna be looking at - it's called the __Pettijohn classification__ and only really applies to sandstones and mudstones. So we'll only be using this if for example, the gravel percentage is 5 percent or less from the previous ternary. You can also ignore that tiny ternary in the bottom right corner, we're only interested in the toblerone-looking plot.\n",
    "![alt text](Sandstone_classification.jpg)\n",
    "\n"
   ]
  },
  {
   "cell_type": "markdown",
   "metadata": {},
   "source": [
    "# Problem #1 \n",
    "## Let's say we had a rock that was 20% Sandstone, 50% mud, and 2% gravel. It is also 97% quartz, 2 percent lithic, and 3% feldspar. \n",
    "## Plot it on the clast size ternary, and give the classification.\n",
    "## Can you plot it on the Pettijohn ternary? Why or why not?\n",
    "## If so, what is the Pettijohn classification?"
   ]
  },
  {
   "cell_type": "code",
   "execution_count": null,
   "metadata": {},
   "outputs": [],
   "source": [
    "df = pd.read_csv(r'C:/Users/WillyB/Documents/GitHub/2020-ps-wildbillcolorado/week3/sed_data_week3.csv')  # You'll have to change this for your own file path.\n",
    "df.head()"
   ]
  },
  {
   "cell_type": "code",
   "execution_count": null,
   "metadata": {},
   "outputs": [],
   "source": [
    "cols = ['% particles gravel', '% particles sand', '% particles mud','Gravel Norm',]\n",
    "\n",
    "for col in cols: ## this is basically saying, for each of the paramters in the list cols do the function.\n",
    "    df[col[0]] = df[col] * 100 / df[cols].sum(axis=1)  ## This is the normalization function. Look at the normalization section above and see if you can kinda understand what's going on here. \n",
    "\n",
    "    "
   ]
  },
  {
   "cell_type": "code",
   "execution_count": null,
   "metadata": {
    "scrolled": true
   },
   "outputs": [],
   "source": [
    "df.head()"
   ]
  },
  {
   "cell_type": "code",
   "execution_count": null,
   "metadata": {},
   "outputs": [],
   "source": [
    "# Set up the figure.\n",
    "fig, tax = ternary.figure(scale=100)\n",
    "fig.set_size_inches(10, 9)\n",
    "\n",
    "# Plot points.\n",
    "tax.scatter(df[['Mud Norm', 'Gravel Norm', 'Sand Norm']].values)\n",
    "\n",
    "# Axis labels. (See below for corner labels.)\n",
    "fontsize = 14\n",
    "offset = 0.08\n",
    "tax.left_axis_label(\"% particles sand\", fontsize=fontsize, offset=offset)\n",
    "tax.right_axis_label(\"% particles gravel\", fontsize=fontsize, offset=offset)\n",
    "tax.bottom_axis_label(\"% particles mud\", fontsize=fontsize, offset=-offset)\n",
    "tax.set_title(\"Sobrarbe Formation\", fontsize=20)\n",
    "\n",
    "# Draw some lines.\n",
    "p1, p2 = (0, 80, 20), (20, 80, 0)\n",
    "tax.line(p1, p2, linewidth=3, color='k', alpha=0.35, linestyle=\"-\")\n",
    "\n",
    "p1, p2 = (0, 30, 70), (70, 30, 0)\n",
    "tax.line(p1, p2, linewidth=3, color='k', alpha=0.35, linestyle=\"-\")\n",
    "\n",
    "p1, p2 = (10, 80, 10), (50, 0, 50)\n",
    "tax.line(p1, p2, linewidth=3, color='k', alpha=0.35, linestyle=\"--\")\n",
    "\n",
    "p1, p2 = (0, 5, 95), (95, 5, 0)\n",
    "tax.line(p1, p2, linewidth=3, color='k', alpha=0.35, linestyle=\"-\")\n",
    "\n",
    "p1, p2 = (2, 80, 17), (10, 0, 90)\n",
    "tax.line(p1, p2, linewidth=3, color='k', alpha=0.35, linestyle=\"-\")\n",
    "\n",
    "# Decoration.\n",
    "tax.boundary(linewidth=1)\n",
    "tax.gridlines(multiple=10, color=\"gray\")\n",
    "tax.ticks(axis='lbr', linewidth=1, multiple=20)\n",
    "tax.get_axes().axis('off')\n",
    "\n",
    "tax.show()"
   ]
  },
  {
   "cell_type": "markdown",
   "metadata": {},
   "source": [
    "# Question 2: Give a classification of each of the 10 samples within in the data set.\n",
    "\n",
    "# Question 3: How many of these can be classified using the Pettijohn Ternary?\n",
    "\n",
    "# Question 4: Write some code below, using an ifel statement, that reads the dataframe, and prints out what the pettijohn classification is if it can be classified using the Matrix section of the Pettijohn classification (Arenite vs Wacke Vs Mudrock), and if it can't use the classification, print \"I petti the fool\". (hint, all you need to check is two columns.)"
   ]
  },
  {
   "cell_type": "code",
   "execution_count": null,
   "metadata": {},
   "outputs": [],
   "source": []
  },
  {
   "cell_type": "markdown",
   "metadata": {},
   "source": []
  },
  {
   "cell_type": "code",
   "execution_count": null,
   "metadata": {},
   "outputs": [],
   "source": [
    "## This is the same as the other graphs...we're just creating a table of x and y values..... except the values for y is once again going to change.\n",
    "curve = pd.DataFrame(np.arange(0.0, 7.0, 0.5), columns = list('x'))\n",
    "curve['y'] = (np.log(1.6) * 1.6** curve['x']) ## this is the only thing that changed from the last table. Instead of y = 1.6^x, it is now ln(1.6)*1.6^x. Why did we do this? Becuase the DERIVATIVE of 1.6^x happens to be ln(1.6)*1.6^x...So this is the derivative, or the SLOPE of the graph before.\n",
    "curve[1:20]  ## notice how the numbers have changed from the last graph."
   ]
  },
  {
   "cell_type": "code",
   "execution_count": null,
   "metadata": {},
   "outputs": [],
   "source": [
    "plt.rcParams['figure.figsize'] = [6, 6]\n",
    "plt.plot(curve['x'], curve['y'])\n",
    "plt.title('Plot for Velocity VS Time')\n",
    "plt.xlabel('Time(sec)')\n",
    "plt.ylabel('Velocity(M/s)')\n",
    "\n",
    "plt.show()"
   ]
  },
  {
   "cell_type": "markdown",
   "metadata": {},
   "source": [
    "### This is what we get - The derivative of distance vs time - which is velocity!\n",
    "\n",
    "### We can compare the graph of Velocity and the graph of Acceleration. I know they look similiar, but if you look at the Y axes, you can tell they are a bit different in scale.\n",
    "\n",
    "### The original equation of the distance vs time graph was \n",
    "\\begin{align}\n",
    "Distance = 1.6^t\n",
    "\\end{align}\n",
    "### And that means the derivative (or the slope) of the line is \n",
    "\\begin{align}\n",
    "Distance = ln(1.6)*1.6^t\n",
    "\\end{align}\n",
    "\n",
    "## We find the velocity by taking the slope of a distance vs time graph, and similiarly, we find the acceleration by taking the slope of a velocity vs time graph.\n",
    "\n",
    "# Question 4: What is greater, the acceleration at 2 seconds, or the acceleration at 4 seconds? Why?\n",
    "# \n",
    "# Extra Credit : What is the **scalar** difference between the last two graphs in this exercise? In other words, what is the size comparison of the last 2 graphs? Is the last one smaller by a half, smaller by a quarter, double the size?\n"
   ]
  }
 ],
 "metadata": {
  "kernelspec": {
   "display_name": "Python 3",
   "language": "python",
   "name": "python3"
  },
  "language_info": {
   "codemirror_mode": {
    "name": "ipython",
    "version": 3
   },
   "file_extension": ".py",
   "mimetype": "text/x-python",
   "name": "python",
   "nbconvert_exporter": "python",
   "pygments_lexer": "ipython3",
   "version": "3.8.3"
  }
 },
 "nbformat": 4,
 "nbformat_minor": 4
}
